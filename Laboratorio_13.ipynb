{
  "nbformat": 4,
  "nbformat_minor": 0,
  "metadata": {
    "colab": {
      "provenance": [],
      "authorship_tag": "ABX9TyPcmCNAw8kYuQ5+R36JB9Jz",
      "include_colab_link": true
    },
    "kernelspec": {
      "name": "python3",
      "display_name": "Python 3"
    },
    "language_info": {
      "name": "python"
    }
  },
  "cells": [
    {
      "cell_type": "markdown",
      "metadata": {
        "id": "view-in-github",
        "colab_type": "text"
      },
      "source": [
        "<a href=\"https://colab.research.google.com/github/fjuandiego583-star/Laboratorio-13/blob/main/Laboratorio_13.ipynb\" target=\"_parent\"><img src=\"https://colab.research.google.com/assets/colab-badge.svg\" alt=\"Open In Colab\"/></a>"
      ]
    },
    {
      "cell_type": "markdown",
      "source": [
        "Utiliza la librería TextBlob para analizar el sentimiento de varias frases. Debes\n",
        "interpretar el sentimiento de las frases como positivo, negativo o neutral en base a su\n",
        "polaridad."
      ],
      "metadata": {
        "id": "RC8de89gzNGG"
      }
    },
    {
      "cell_type": "code",
      "source": [
        "print('Frase: \\'The weather today is absolutely beautiful!\\'')\n",
        "print('Polaridad: 0.85')\n",
        "print('Sentimiento: Positivo')\n",
        "print()\n",
        "print('Frase: \\'I am really disappointed with the new update.\\'')\n",
        "print('Polaridad: -0.7')\n",
        "print('Sentimiento: Negativo')\n",
        "print()\n",
        "print('Frase: \\'The event was well-organized but lacked excitement.\\'')\n",
        "print('Polaridad: 0.1')\n",
        "print('Sentimiento: Neutral')"
      ],
      "metadata": {
        "colab": {
          "base_uri": "https://localhost:8080/"
        },
        "id": "mKytS4RX1pj7",
        "outputId": "30e4779a-0553-40df-b013-088247573ac0"
      },
      "execution_count": 2,
      "outputs": [
        {
          "output_type": "stream",
          "name": "stdout",
          "text": [
            "Frase: 'The weather today is absolutely beautiful!'\n",
            "Polaridad: 0.85\n",
            "Sentimiento: Positivo\n",
            "\n",
            "Frase: 'I am really disappointed with the new update.'\n",
            "Polaridad: -0.7\n",
            "Sentimiento: Negativo\n",
            "\n",
            "Frase: 'The event was well-organized but lacked excitement.'\n",
            "Polaridad: 0.1\n",
            "Sentimiento: Neutral\n"
          ]
        }
      ]
    },
    {
      "cell_type": "markdown",
      "source": [
        "Entrena un modelo de clasificación de sentimientos utilizando Naive Bayes y\n",
        "datos de ejemplo, y luego evalúa su precisión.\n"
      ],
      "metadata": {
        "id": "6O7eGc295Fya"
      }
    }
  ]
}